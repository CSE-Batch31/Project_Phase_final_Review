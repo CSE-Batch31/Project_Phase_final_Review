{
 "cells": [
  {
   "cell_type": "code",
   "execution_count": 1,
   "id": "4b3305ba",
   "metadata": {},
   "outputs": [
    {
     "name": "stdout",
     "output_type": "stream",
     "text": [
      "pygame 2.1.2 (SDL 2.0.18, Python 3.9.12)\n",
      "Hello from the pygame community. https://www.pygame.org/contribute.html\n"
     ]
    }
   ],
   "source": [
    "import tensorflow as tf\n",
    "from tensorflow import keras\n",
    "from tensorflow.keras.preprocessing.image import ImageDataGenerator\n",
    "from tensorflow.keras.models import Sequential\n",
    "from tensorflow.keras.models import load_model\n",
    "from tensorflow.keras.preprocessing import image\n",
    "import numpy as np\n",
    "#for media\n",
    "from pygame import mixer\n"
   ]
  },
  {
   "cell_type": "code",
   "execution_count": 2,
   "id": "27f697ad",
   "metadata": {},
   "outputs": [
    {
     "data": {
      "text/plain": [
       "'2.8.0'"
      ]
     },
     "execution_count": 2,
     "metadata": {},
     "output_type": "execute_result"
    }
   ],
   "source": [
    "tf.__version__"
   ]
  },
  {
   "cell_type": "code",
   "execution_count": 3,
   "id": "7fff949f",
   "metadata": {},
   "outputs": [],
   "source": [
    "#print(\"Num GPUs available: \" ,len(tf.config.list_physical_devices('GPU')))"
   ]
  },
  {
   "cell_type": "code",
   "execution_count": 4,
   "id": "d4fbdc2a",
   "metadata": {},
   "outputs": [],
   "source": [
    "#tf.test.is_built_with_cuda()"
   ]
  },
  {
   "cell_type": "code",
   "execution_count": 5,
   "id": "ea0f9227",
   "metadata": {},
   "outputs": [
    {
     "data": {
      "text/plain": [
       "'3.9.12 (main, Apr  4 2022, 05:22:27) [MSC v.1916 64 bit (AMD64)]'"
      ]
     },
     "execution_count": 5,
     "metadata": {},
     "output_type": "execute_result"
    }
   ],
   "source": [
    "import sys\n",
    "sys.version"
   ]
  },
  {
   "cell_type": "code",
   "execution_count": 6,
   "id": "bdd7397c",
   "metadata": {},
   "outputs": [],
   "source": [
    "#tf.test.is_gpu_available()"
   ]
  },
  {
   "cell_type": "markdown",
   "id": "c523127f",
   "metadata": {},
   "source": [
    "# Preparing data, Data Agumentation by rescaling and reseizing, 256 total pixel size"
   ]
  },
  {
   "cell_type": "code",
   "execution_count": 7,
   "id": "f49aaccb",
   "metadata": {},
   "outputs": [],
   "source": [
    "#Rescaling \n",
    "batch_size = 16\n",
    "training_datagenerator = ImageDataGenerator(rescale=1.0/255,\n",
    "                                            horizontal_flip=True, \n",
    "                                             vertical_flip=True, \n",
    "                                             zoom_range=0.2, \n",
    "                                            shear_range=0.2,\n",
    "                                            featurewise_center=True,\n",
    "                                            featurewise_std_normalization=True,\n",
    "                                            rotation_range=40,\n",
    "                                            width_shift_range=0.2, \n",
    "                                            height_shift_range=0.2,\n",
    "                                           validation_split=0.3)\n"
   ]
  },
  {
   "cell_type": "code",
   "execution_count": 8,
   "id": "793ce66c",
   "metadata": {},
   "outputs": [
    {
     "name": "stdout",
     "output_type": "stream",
     "text": [
      "Found 11279 images belonging to 3 classes.\n",
      "Found 4832 images belonging to 3 classes.\n"
     ]
    }
   ],
   "source": [
    "#Data is being divided into training and validation.\n",
    "\n",
    "training = training_datagenerator.flow_from_directory(r\"C:\\Users\\chand\\Desktop\\Project_Phase\\FireDataset\\Training Data\", \n",
    "                                                       target_size = (256,256), color_mode = 'rgb', \n",
    "                                                       class_mode = 'categorical', batch_size = 16,\n",
    "                                                       subset = 'training')\n",
    "\n",
    "\n",
    "#validation means to find and optimiz the best model to solve a given problem \n",
    "validation=training_datagenerator.flow_from_directory(r\"C:\\Users\\chand\\Desktop\\Project_Phase\\FireDataset\\Training Data\",\n",
    "                                                target_size=(256, 256),color_mode='rgb',\n",
    "                                       class_mode='categorical', batch_size=16,subset='validation')"
   ]
  },
  {
   "cell_type": "code",
   "execution_count": 9,
   "id": "4409250d",
   "metadata": {},
   "outputs": [
    {
     "data": {
      "text/plain": [
       "{'Fire': 0, 'NoFire': 1, 'Smoke': 2}"
      ]
     },
     "execution_count": 9,
     "metadata": {},
     "output_type": "execute_result"
    }
   ],
   "source": [
    "validation.class_indices"
   ]
  },
  {
   "cell_type": "code",
   "execution_count": 10,
   "id": "d2605ffb",
   "metadata": {},
   "outputs": [],
   "source": [
    "#training.class_indices"
   ]
  },
  {
   "cell_type": "markdown",
   "id": "eddf73b8",
   "metadata": {},
   "source": [
    "# CNN architecture\n"
   ]
  },
  {
   "cell_type": "code",
   "execution_count": 11,
   "id": "97b112c6",
   "metadata": {},
   "outputs": [],
   "source": [
    "#Cnn Architechture or Initializing cnn Architechture\n",
    "cnn=tf.keras.models.Sequential()\n",
    "\n",
    "#Adding 1st layer / Input Layer\n",
    "cnn.add(tf.keras.layers.Conv2D(filters=16, padding='same', kernel_size=3, activation='relu', input_shape=[256,256,3]))\n",
    "#Polling Layer\n",
    "cnn.add(tf.keras.layers.MaxPool2D(pool_size=2))\n",
    "\n",
    "#Adding 2nd layer \n",
    "cnn.add(tf.keras.layers.Conv2D(filters=32, padding='same', kernel_size=3, activation='relu'))\n",
    "#Polling Layer\n",
    "cnn.add(tf.keras.layers.MaxPool2D(pool_size=2))\n",
    "\n",
    "\n",
    "#Adding 3rd layer \n",
    "cnn.add(tf.keras.layers.Conv2D(filters=64, padding='same', kernel_size=3, activation='relu'))\n",
    "#Polling Layer\n",
    "cnn.add(tf.keras.layers.MaxPool2D(pool_size=2))\n",
    "\n",
    "#Adding 4th layer \n",
    "cnn.add(tf.keras.layers.Conv2D(filters=128, padding='same', kernel_size=3, activation='relu'))\n",
    "#Polling Layer\n",
    "cnn.add(tf.keras.layers.MaxPool2D(pool_size=2))\n",
    "\n",
    "#Adding 5th layer \n",
    "cnn.add(tf.keras.layers.Conv2D(filters=256, padding='same', kernel_size=3, activation='relu'))\n",
    "#Polling Layer\n",
    "cnn.add(tf.keras.layers.MaxPool2D(pool_size=2))\n",
    "\n",
    "#falttened layer\n",
    "cnn.add(tf.keras.layers.Flatten())\n",
    "\n",
    "#hidden Layer\n",
    "cnn.add(tf.keras.layers.Dense(units=512,activation='relu'))\n",
    "cnn.add(tf.keras.layers.Dense(units=512,activation='relu'))\n",
    "cnn.add(tf.keras.layers.Dense(units=512,activation='relu'))\n",
    "cnn.add(tf.keras.layers.Dense(units=512,activation='relu'))\n",
    "cnn.add(tf.keras.layers.Dense(units=512,activation='relu'))\n",
    "\n",
    "#output Layer\n",
    "cnn.add(tf.keras.layers.Dense(units=3, activation='softmax'))"
   ]
  },
  {
   "cell_type": "code",
   "execution_count": 12,
   "id": "e29f5b9c",
   "metadata": {},
   "outputs": [
    {
     "name": "stdout",
     "output_type": "stream",
     "text": [
      "Model: \"sequential\"\n",
      "_________________________________________________________________\n",
      " Layer (type)                Output Shape              Param #   \n",
      "=================================================================\n",
      " conv2d (Conv2D)             (None, 256, 256, 16)      448       \n",
      "                                                                 \n",
      " max_pooling2d (MaxPooling2D  (None, 128, 128, 16)     0         \n",
      " )                                                               \n",
      "                                                                 \n",
      " conv2d_1 (Conv2D)           (None, 128, 128, 32)      4640      \n",
      "                                                                 \n",
      " max_pooling2d_1 (MaxPooling  (None, 64, 64, 32)       0         \n",
      " 2D)                                                             \n",
      "                                                                 \n",
      " conv2d_2 (Conv2D)           (None, 64, 64, 64)        18496     \n",
      "                                                                 \n",
      " max_pooling2d_2 (MaxPooling  (None, 32, 32, 64)       0         \n",
      " 2D)                                                             \n",
      "                                                                 \n",
      " conv2d_3 (Conv2D)           (None, 32, 32, 128)       73856     \n",
      "                                                                 \n",
      " max_pooling2d_3 (MaxPooling  (None, 16, 16, 128)      0         \n",
      " 2D)                                                             \n",
      "                                                                 \n",
      " conv2d_4 (Conv2D)           (None, 16, 16, 256)       295168    \n",
      "                                                                 \n",
      " max_pooling2d_4 (MaxPooling  (None, 8, 8, 256)        0         \n",
      " 2D)                                                             \n",
      "                                                                 \n",
      " flatten (Flatten)           (None, 16384)             0         \n",
      "                                                                 \n",
      " dense (Dense)               (None, 512)               8389120   \n",
      "                                                                 \n",
      " dense_1 (Dense)             (None, 512)               262656    \n",
      "                                                                 \n",
      " dense_2 (Dense)             (None, 512)               262656    \n",
      "                                                                 \n",
      " dense_3 (Dense)             (None, 512)               262656    \n",
      "                                                                 \n",
      " dense_4 (Dense)             (None, 512)               262656    \n",
      "                                                                 \n",
      " dense_5 (Dense)             (None, 3)                 1539      \n",
      "                                                                 \n",
      "=================================================================\n",
      "Total params: 9,833,891\n",
      "Trainable params: 9,833,891\n",
      "Non-trainable params: 0\n",
      "_________________________________________________________________\n"
     ]
    }
   ],
   "source": [
    "cnn.summary()"
   ]
  },
  {
   "cell_type": "code",
   "execution_count": 13,
   "id": "80ec820e",
   "metadata": {},
   "outputs": [],
   "source": [
    "#after every model to check \n",
    "ckeckpoint=tf.keras.callbacks.ModelCheckpoint(r'C:\\Users\\chand\\Desktop\\Project_Phase\\FireDataset\\Training models\\model.h5', \n",
    "                                              monitor='val_loss',\n",
    "                                              verbose=0,\n",
    "                                              mode=\"min\",\n",
    "                                              save_weights_only=False,\n",
    "                                              save_best_only=True)\n",
    "callbacks = ckeckpoint"
   ]
  },
  {
   "cell_type": "code",
   "execution_count": 14,
   "id": "42d0deb5",
   "metadata": {
    "scrolled": true
   },
   "outputs": [
    {
     "name": "stderr",
     "output_type": "stream",
     "text": [
      "C:\\Users\\chand\\anaconda3\\envs\\tensorflow\\lib\\site-packages\\keras_preprocessing\\image\\image_data_generator.py:720: UserWarning: This ImageDataGenerator specifies `featurewise_center`, but it hasn't been fit on any training data. Fit it first by calling `.fit(numpy_data)`.\n",
      "  warnings.warn('This ImageDataGenerator specifies '\n",
      "C:\\Users\\chand\\anaconda3\\envs\\tensorflow\\lib\\site-packages\\keras_preprocessing\\image\\image_data_generator.py:728: UserWarning: This ImageDataGenerator specifies `featurewise_std_normalization`, but it hasn't been fit on any training data. Fit it first by calling `.fit(numpy_data)`.\n",
      "  warnings.warn('This ImageDataGenerator specifies '\n"
     ]
    },
    {
     "name": "stdout",
     "output_type": "stream",
     "text": [
      "Epoch 1/5\n",
      "704/704 [==============================] - 1229s 2s/step - loss: 0.1996 - accuracy: 0.8810 - val_loss: 0.1359 - val_accuracy: 0.9106\n",
      "Epoch 2/5\n",
      "704/704 [==============================] - 939s 1s/step - loss: 0.1160 - accuracy: 0.9299 - val_loss: 0.1028 - val_accuracy: 0.9462\n",
      "Epoch 3/5\n",
      "704/704 [==============================] - 1030s 1s/step - loss: 0.1008 - accuracy: 0.9387 - val_loss: 0.1169 - val_accuracy: 0.9385\n",
      "Epoch 4/5\n",
      "704/704 [==============================] - 979s 1s/step - loss: 0.0806 - accuracy: 0.9566 - val_loss: 0.0839 - val_accuracy: 0.9582\n",
      "Epoch 5/5\n",
      "704/704 [==============================] - 973s 1s/step - loss: 0.0702 - accuracy: 0.9624 - val_loss: 0.0846 - val_accuracy: 0.9547\n"
     ]
    },
    {
     "data": {
      "text/plain": [
       "<keras.callbacks.History at 0x1e2a4a15850>"
      ]
     },
     "execution_count": 14,
     "metadata": {},
     "output_type": "execute_result"
    }
   ],
   "source": [
    "#Training the CNN Model i.e. Compile and Train\n",
    "from PIL import ImageFile\n",
    "ImageFile.LOAD_TRUNCATED_IMAGES = True\n",
    "\n",
    "cnn.compile(optimizer='Adam',loss='binary_crossentropy', metrics=['accuracy'])\n",
    "\n",
    "cnn.fit(training, validation_data=validation, epochs=5,\n",
    "                  steps_per_epoch=training.samples//16,\n",
    "                  validation_steps=validation.samples//16,\n",
    "                  callbacks = callbacks)\n",
    "#\"steps_per_epoch=  It is used to define how many batches of samples to use in one epoch. \n",
    "#It is used to declaring one epoch finished and starting the next epoch\""
   ]
  },
  {
   "cell_type": "code",
   "execution_count": 30,
   "id": "7c4cae4b",
   "metadata": {},
   "outputs": [],
   "source": [
    "###to load the trained model and test due to time constarint\n",
    "### excecute only when data is not trained\n",
    "cnn=load_model(r'C:\\Users\\chand\\Desktop\\Project_Phase\\FireDataset\\Training models\\model.h5')"
   ]
  },
  {
   "cell_type": "markdown",
   "id": "2209fc28",
   "metadata": {},
   "source": [
    "cnn.summary()"
   ]
  },
  {
   "cell_type": "code",
   "execution_count": 57,
   "id": "d4a51d30",
   "metadata": {},
   "outputs": [],
   "source": [
    "image_for_testing= r'C:\\Users\\chand\\Desktop\\Project_Phase\\FireDataset\\Testing Images\\s2.jfif'"
   ]
  },
  {
   "cell_type": "code",
   "execution_count": 58,
   "id": "a19f4993",
   "metadata": {},
   "outputs": [
    {
     "data": {
      "text/plain": [
       "'C:\\\\Users\\\\chand\\\\Desktop\\\\Project_Phase\\\\FireDataset\\\\Testing Images\\\\s2.jfif'"
      ]
     },
     "execution_count": 58,
     "metadata": {},
     "output_type": "execute_result"
    }
   ],
   "source": [
    "image_for_testing"
   ]
  },
  {
   "cell_type": "code",
   "execution_count": 59,
   "id": "6f6c85a8",
   "metadata": {},
   "outputs": [],
   "source": [
    "test_image=image.load_img(image_for_testing,target_size=(256,256))"
   ]
  },
  {
   "cell_type": "code",
   "execution_count": 60,
   "id": "f00f4d0a",
   "metadata": {},
   "outputs": [
    {
     "data": {
      "image/png": "[encoded data removed]",
      "text/plain": [
       "<PIL.Image.Image image mode=RGB size=256x256>"
      ]
     },
     "execution_count": 60,
     "metadata": {},
     "output_type": "execute_result"
    }
   ],
   "source": [
    "test_image"
   ]
  },
  {
   "cell_type": "code",
   "execution_count": 61,
   "id": "254a327d",
   "metadata": {},
   "outputs": [],
   "source": [
    "test_image = image.img_to_array(test_image)"
   ]
  },
  {
   "cell_type": "code",
   "execution_count": 62,
   "id": "2e5217c2",
   "metadata": {},
   "outputs": [
    {
     "data": {
      "text/plain": [
       "array([[[170., 170., 194.],\n",
       "        [158., 158., 182.],\n",
       "        [142., 142., 168.],\n",
       "        ...,\n",
       "        [ 66., 114., 199.],\n",
       "        [ 66., 114., 199.],\n",
       "        [ 66., 114., 199.]],\n",
       "\n",
       "       [[165., 165., 189.],\n",
       "        [151., 151., 175.],\n",
       "        [134., 134., 160.],\n",
       "        ...,\n",
       "        [ 64., 112., 197.],\n",
       "        [ 64., 112., 197.],\n",
       "        [ 64., 112., 197.]],\n",
       "\n",
       "       [[166., 166., 190.],\n",
       "        [150., 150., 174.],\n",
       "        [129., 129., 153.],\n",
       "        ...,\n",
       "        [ 63., 111., 196.],\n",
       "        [ 63., 111., 196.],\n",
       "        [ 63., 111., 196.]],\n",
       "\n",
       "       ...,\n",
       "\n",
       "       [[ 52.,  58.,  32.],\n",
       "        [ 50.,  56.,  30.],\n",
       "        [ 42.,  45.,  18.],\n",
       "        ...,\n",
       "        [ 80.,  76.,  49.],\n",
       "        [ 80.,  79.,  51.],\n",
       "        [ 83.,  79.,  50.]],\n",
       "\n",
       "       [[ 25.,  29.,   4.],\n",
       "        [ 62.,  66.,  39.],\n",
       "        [ 64.,  67.,  40.],\n",
       "        ...,\n",
       "        [ 57.,  55.,  32.],\n",
       "        [ 57.,  55.,  32.],\n",
       "        [ 58.,  56.,  33.]],\n",
       "\n",
       "       [[ 98., 101.,  74.],\n",
       "        [ 90.,  93.,  64.],\n",
       "        [ 25.,  28.,   0.],\n",
       "        ...,\n",
       "        [ 95.,  94.,  76.],\n",
       "        [ 60.,  59.,  41.],\n",
       "        [ 60.,  59.,  41.]]], dtype=float32)"
      ]
     },
     "execution_count": 62,
     "metadata": {},
     "output_type": "execute_result"
    }
   ],
   "source": [
    "test_image"
   ]
  },
  {
   "cell_type": "code",
   "execution_count": 63,
   "id": "23809c7f",
   "metadata": {},
   "outputs": [],
   "source": [
    "test_image=test_image/255"
   ]
  },
  {
   "cell_type": "code",
   "execution_count": 64,
   "id": "8b5f6c86",
   "metadata": {},
   "outputs": [
    {
     "data": {
      "text/plain": [
       "array([[[0.6666667 , 0.6666667 , 0.7607843 ],\n",
       "        [0.61960787, 0.61960787, 0.7137255 ],\n",
       "        [0.5568628 , 0.5568628 , 0.65882355],\n",
       "        ...,\n",
       "        [0.25882354, 0.44705883, 0.78039217],\n",
       "        [0.25882354, 0.44705883, 0.78039217],\n",
       "        [0.25882354, 0.44705883, 0.78039217]],\n",
       "\n",
       "       [[0.64705884, 0.64705884, 0.7411765 ],\n",
       "        [0.5921569 , 0.5921569 , 0.6862745 ],\n",
       "        [0.5254902 , 0.5254902 , 0.627451  ],\n",
       "        ...,\n",
       "        [0.2509804 , 0.4392157 , 0.77254903],\n",
       "        [0.2509804 , 0.4392157 , 0.77254903],\n",
       "        [0.2509804 , 0.4392157 , 0.77254903]],\n",
       "\n",
       "       [[0.6509804 , 0.6509804 , 0.74509805],\n",
       "        [0.5882353 , 0.5882353 , 0.68235296],\n",
       "        [0.5058824 , 0.5058824 , 0.6       ],\n",
       "        ...,\n",
       "        [0.24705882, 0.43529412, 0.76862746],\n",
       "        [0.24705882, 0.43529412, 0.76862746],\n",
       "        [0.24705882, 0.43529412, 0.76862746]],\n",
       "\n",
       "       ...,\n",
       "\n",
       "       [[0.20392157, 0.22745098, 0.1254902 ],\n",
       "        [0.19607843, 0.21960784, 0.11764706],\n",
       "        [0.16470589, 0.1764706 , 0.07058824],\n",
       "        ...,\n",
       "        [0.3137255 , 0.29803923, 0.19215687],\n",
       "        [0.3137255 , 0.30980393, 0.2       ],\n",
       "        [0.3254902 , 0.30980393, 0.19607843]],\n",
       "\n",
       "       [[0.09803922, 0.11372549, 0.01568628],\n",
       "        [0.24313726, 0.25882354, 0.15294118],\n",
       "        [0.2509804 , 0.2627451 , 0.15686275],\n",
       "        ...,\n",
       "        [0.22352941, 0.21568628, 0.1254902 ],\n",
       "        [0.22352941, 0.21568628, 0.1254902 ],\n",
       "        [0.22745098, 0.21960784, 0.12941177]],\n",
       "\n",
       "       [[0.38431373, 0.39607844, 0.2901961 ],\n",
       "        [0.3529412 , 0.3647059 , 0.2509804 ],\n",
       "        [0.09803922, 0.10980392, 0.        ],\n",
       "        ...,\n",
       "        [0.37254903, 0.36862746, 0.29803923],\n",
       "        [0.23529412, 0.23137255, 0.16078432],\n",
       "        [0.23529412, 0.23137255, 0.16078432]]], dtype=float32)"
      ]
     },
     "execution_count": 64,
     "metadata": {},
     "output_type": "execute_result"
    }
   ],
   "source": [
    "test_image"
   ]
  },
  {
   "cell_type": "code",
   "execution_count": 65,
   "id": "87d22ba2",
   "metadata": {},
   "outputs": [],
   "source": [
    "test_image=np.expand_dims(test_image,axis=0)"
   ]
  },
  {
   "cell_type": "code",
   "execution_count": 66,
   "id": "7d94f909",
   "metadata": {},
   "outputs": [
    {
     "data": {
      "text/plain": [
       "array([[[[0.6666667 , 0.6666667 , 0.7607843 ],\n",
       "         [0.61960787, 0.61960787, 0.7137255 ],\n",
       "         [0.5568628 , 0.5568628 , 0.65882355],\n",
       "         ...,\n",
       "         [0.25882354, 0.44705883, 0.78039217],\n",
       "         [0.25882354, 0.44705883, 0.78039217],\n",
       "         [0.25882354, 0.44705883, 0.78039217]],\n",
       "\n",
       "        [[0.64705884, 0.64705884, 0.7411765 ],\n",
       "         [0.5921569 , 0.5921569 , 0.6862745 ],\n",
       "         [0.5254902 , 0.5254902 , 0.627451  ],\n",
       "         ...,\n",
       "         [0.2509804 , 0.4392157 , 0.77254903],\n",
       "         [0.2509804 , 0.4392157 , 0.77254903],\n",
       "         [0.2509804 , 0.4392157 , 0.77254903]],\n",
       "\n",
       "        [[0.6509804 , 0.6509804 , 0.74509805],\n",
       "         [0.5882353 , 0.5882353 , 0.68235296],\n",
       "         [0.5058824 , 0.5058824 , 0.6       ],\n",
       "         ...,\n",
       "         [0.24705882, 0.43529412, 0.76862746],\n",
       "         [0.24705882, 0.43529412, 0.76862746],\n",
       "         [0.24705882, 0.43529412, 0.76862746]],\n",
       "\n",
       "        ...,\n",
       "\n",
       "        [[0.20392157, 0.22745098, 0.1254902 ],\n",
       "         [0.19607843, 0.21960784, 0.11764706],\n",
       "         [0.16470589, 0.1764706 , 0.07058824],\n",
       "         ...,\n",
       "         [0.3137255 , 0.29803923, 0.19215687],\n",
       "         [0.3137255 , 0.30980393, 0.2       ],\n",
       "         [0.3254902 , 0.30980393, 0.19607843]],\n",
       "\n",
       "        [[0.09803922, 0.11372549, 0.01568628],\n",
       "         [0.24313726, 0.25882354, 0.15294118],\n",
       "         [0.2509804 , 0.2627451 , 0.15686275],\n",
       "         ...,\n",
       "         [0.22352941, 0.21568628, 0.1254902 ],\n",
       "         [0.22352941, 0.21568628, 0.1254902 ],\n",
       "         [0.22745098, 0.21960784, 0.12941177]],\n",
       "\n",
       "        [[0.38431373, 0.39607844, 0.2901961 ],\n",
       "         [0.3529412 , 0.3647059 , 0.2509804 ],\n",
       "         [0.09803922, 0.10980392, 0.        ],\n",
       "         ...,\n",
       "         [0.37254903, 0.36862746, 0.29803923],\n",
       "         [0.23529412, 0.23137255, 0.16078432],\n",
       "         [0.23529412, 0.23137255, 0.16078432]]]], dtype=float32)"
      ]
     },
     "execution_count": 66,
     "metadata": {},
     "output_type": "execute_result"
    }
   ],
   "source": [
    "test_image"
   ]
  },
  {
   "cell_type": "code",
   "execution_count": 67,
   "id": "79f79d30",
   "metadata": {},
   "outputs": [
    {
     "data": {
      "text/plain": [
       "2"
      ]
     },
     "execution_count": 67,
     "metadata": {},
     "output_type": "execute_result"
    }
   ],
   "source": [
    "predict=cnn.predict(test_image)\n",
    "result=np.argmax(predict[0], axis=0)\n",
    "result"
   ]
  },
  {
   "cell_type": "code",
   "execution_count": 68,
   "id": "2d6ef732",
   "metadata": {},
   "outputs": [],
   "source": [
    "from tkinter import *\n",
    "from tkinter import ttk\n",
    "from twilio.rest import  Client \n",
    "\n",
    "\n",
    "##for POP message BOX\n",
    "def Notification():\n",
    "    root = Tk()\n",
    "    root.geometry(\"300x200\")\n",
    "    w = Label(root, text ='*Notification*', font = \"100\") \n",
    "    w.pack()\n",
    "    msg = Message( root, text = \"No Fire has been detected in the image Provided\", font= \"80\")  \n",
    "    msg.pack()\n",
    "    root.mainloop() \n",
    "    \n",
    "####for sending message to any phone number     \n",
    "def Fire_sms():\n",
    "    client = Client('AC4e1bc42c57671cc1fe355eed7cd769d5', '156e19f48d6f461ff26470b479bccf71')\n",
    "\n",
    "    message = client.messages.create(\n",
    "        body = \"Fire! Fire! Fire! Fire! Fire!\",\n",
    "        from_ = '+19895107599',\n",
    "        to = '+918619519689')\n",
    "\n",
    "def Smoke_sms():\n",
    "    client = Client('AC4e1bc42c57671cc1fe355eed7cd769d5', '156e19f48d6f461ff26470b479bccf71')\n",
    "\n",
    "    message = client.messages.create(\n",
    "        body = \"Smoke!, Smoke!, Smoke!, Smoke!, Smoke!\",\n",
    "        from_ = '+19895107599',\n",
    "        to = '+918619519689')"
   ]
  },
  {
   "cell_type": "markdown",
   "id": "10da0f18",
   "metadata": {},
   "source": [
    "#Alert Alarm\n",
    "from pygame import mixer\n",
    "\n",
    "def fire_Alarm():\n",
    "    mixer.init() \n",
    "    sound=mixer.Sound(\"fire.wav\")\n",
    "    sound.play()"
   ]
  },
  {
   "cell_type": "code",
   "execution_count": 69,
   "id": "fddf1e3a",
   "metadata": {},
   "outputs": [],
   "source": [
    "if result == 0:\n",
    "    Fire_sms()\n",
    "    mixer.init() \n",
    "    sound=mixer.Sound(\"fire4.mp3\")\n",
    "    sound.play()\n",
    "    \n",
    "elif result == 1:\n",
    "    Notification()\n",
    "    \n",
    "elif result == 2:\n",
    "    Smoke_sms()\n",
    "    mixer.init() \n",
    "    sound=mixer.Sound(\"alert.mp3\")\n",
    "    sound.play()\n",
    "    \n",
    "else:\n",
    "    print(\"Everything is Ok\")"
   ]
  },
  {
   "cell_type": "code",
   "execution_count": null,
   "id": "9bf98bf0",
   "metadata": {},
   "outputs": [],
   "source": []
  }
 ],
 "metadata": {
  "kernelspec": {
   "display_name": "Python 3 (ipykernel)",
   "language": "python",
   "name": "python3"
  },
  "language_info": {
   "codemirror_mode": {
    "name": "ipython",
    "version": 3
   },
   "file_extension": ".py",
   "mimetype": "text/x-python",
   "name": "python",
   "nbconvert_exporter": "python",
   "pygments_lexer": "ipython3",
   "version": "3.9.12"
  }
 },
 "nbformat": 4,
 "nbformat_minor": 5
}
